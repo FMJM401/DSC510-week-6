{
 "cells": [
  {
   "cell_type": "markdown",
   "id": "bb3a8471-7a8b-4758-a744-de00552fea65",
   "metadata": {},
   "source": [
    "T6DQ1"
   ]
  },
  {
   "cell_type": "markdown",
   "id": "135c7446-dfe1-4b86-bc25-29c8ff04577a",
   "metadata": {},
   "source": [
    "What are some common assumptions that underlie hypothesis testing for paired data, multiple population means, and variance comparisons? Discuss the potential consequences of violating these assumptions and suggest possible remedies. Additionally, provide examples of situations where each of these statistical tests may be appropriate, and explain why. Finally, what are some practical limitations or considerations when interpreting the results of these tests? How can Python be used to develop a useful tool in this context?"
   ]
  },
  {
   "cell_type": "markdown",
   "id": "42153b86-7b46-4b45-9bff-8e09fa4ad686",
   "metadata": {},
   "source": [
    "Resource: \n",
    "CreditCardUsage. (n.d.). Www.kaggle.com. Retrieved March 22, 2024, from https://www.kaggle.com/datasets/singhbirender/creditcardusage/data\n",
    "‌"
   ]
  },
  {
   "cell_type": "code",
   "execution_count": 6,
   "id": "43d0dc58-db49-44ec-a906-76788f636125",
   "metadata": {},
   "outputs": [],
   "source": [
    "import numpy as np\n",
    "import pandas as pd\n",
    "import matplotlib.pyplot as plt\n",
    "import seaborn as sns\n",
    "import scipy.stats as stats"
   ]
  },
  {
   "cell_type": "code",
   "execution_count": 7,
   "id": "3408f855-4b85-4538-95a0-02e2c5a6f38d",
   "metadata": {},
   "outputs": [
    {
     "data": {
      "text/html": [
       "<div>\n",
       "<style scoped>\n",
       "    .dataframe tbody tr th:only-of-type {\n",
       "        vertical-align: middle;\n",
       "    }\n",
       "\n",
       "    .dataframe tbody tr th {\n",
       "        vertical-align: top;\n",
       "    }\n",
       "\n",
       "    .dataframe thead th {\n",
       "        text-align: right;\n",
       "    }\n",
       "</style>\n",
       "<table border=\"1\" class=\"dataframe\">\n",
       "  <thead>\n",
       "    <tr style=\"text-align: right;\">\n",
       "      <th></th>\n",
       "      <th>custid</th>\n",
       "      <th>sex</th>\n",
       "      <th>AqChannel</th>\n",
       "      <th>region</th>\n",
       "      <th>Marital_status</th>\n",
       "      <th>segment</th>\n",
       "      <th>pre_usage</th>\n",
       "      <th>Post_usage_1month</th>\n",
       "      <th>Latest_mon_usage</th>\n",
       "      <th>post_usage_2ndmonth</th>\n",
       "    </tr>\n",
       "  </thead>\n",
       "  <tbody>\n",
       "    <tr>\n",
       "      <th>0</th>\n",
       "      <td>70</td>\n",
       "      <td>0</td>\n",
       "      <td>4</td>\n",
       "      <td>1</td>\n",
       "      <td>1</td>\n",
       "      <td>1</td>\n",
       "      <td>57</td>\n",
       "      <td>52</td>\n",
       "      <td>49.2</td>\n",
       "      <td>57.2</td>\n",
       "    </tr>\n",
       "    <tr>\n",
       "      <th>1</th>\n",
       "      <td>121</td>\n",
       "      <td>1</td>\n",
       "      <td>4</td>\n",
       "      <td>2</td>\n",
       "      <td>1</td>\n",
       "      <td>3</td>\n",
       "      <td>68</td>\n",
       "      <td>59</td>\n",
       "      <td>63.6</td>\n",
       "      <td>64.9</td>\n",
       "    </tr>\n",
       "    <tr>\n",
       "      <th>2</th>\n",
       "      <td>86</td>\n",
       "      <td>0</td>\n",
       "      <td>4</td>\n",
       "      <td>3</td>\n",
       "      <td>1</td>\n",
       "      <td>1</td>\n",
       "      <td>44</td>\n",
       "      <td>33</td>\n",
       "      <td>64.8</td>\n",
       "      <td>36.3</td>\n",
       "    </tr>\n",
       "    <tr>\n",
       "      <th>3</th>\n",
       "      <td>141</td>\n",
       "      <td>0</td>\n",
       "      <td>4</td>\n",
       "      <td>3</td>\n",
       "      <td>1</td>\n",
       "      <td>3</td>\n",
       "      <td>63</td>\n",
       "      <td>44</td>\n",
       "      <td>56.4</td>\n",
       "      <td>48.4</td>\n",
       "    </tr>\n",
       "    <tr>\n",
       "      <th>4</th>\n",
       "      <td>172</td>\n",
       "      <td>0</td>\n",
       "      <td>4</td>\n",
       "      <td>2</td>\n",
       "      <td>1</td>\n",
       "      <td>2</td>\n",
       "      <td>47</td>\n",
       "      <td>52</td>\n",
       "      <td>68.4</td>\n",
       "      <td>57.2</td>\n",
       "    </tr>\n",
       "  </tbody>\n",
       "</table>\n",
       "</div>"
      ],
      "text/plain": [
       "   custid  sex  AqChannel  region  Marital_status  segment  pre_usage  \\\n",
       "0      70    0          4       1               1        1         57   \n",
       "1     121    1          4       2               1        3         68   \n",
       "2      86    0          4       3               1        1         44   \n",
       "3     141    0          4       3               1        3         63   \n",
       "4     172    0          4       2               1        2         47   \n",
       "\n",
       "   Post_usage_1month  Latest_mon_usage  post_usage_2ndmonth  \n",
       "0                 52              49.2                 57.2  \n",
       "1                 59              63.6                 64.9  \n",
       "2                 33              64.8                 36.3  \n",
       "3                 44              56.4                 48.4  \n",
       "4                 52              68.4                 57.2  "
      ]
     },
     "execution_count": 7,
     "metadata": {},
     "output_type": "execute_result"
    }
   ],
   "source": [
    "df = pd.read_csv('cust_seg.csv')\n",
    "df.head()"
   ]
  },
  {
   "cell_type": "markdown",
   "id": "20b0501e-2f5a-42ff-abb0-5cfaae528b4a",
   "metadata": {},
   "source": [
    "One sample t-test"
   ]
  },
  {
   "cell_type": "code",
   "execution_count": 9,
   "id": "8e040d07-5ade-4ae3-ad4d-79fbb2d8cb63",
   "metadata": {},
   "outputs": [
    {
     "data": {
      "text/plain": [
       "TtestResult(statistic=16.57233752433133, pvalue=2.4963719280931942e-39, df=199)"
      ]
     },
     "execution_count": 9,
     "metadata": {},
     "output_type": "execute_result"
    }
   ],
   "source": [
    "stats.ttest_1samp(a = df.Latest_mon_usage, popmean = 50)"
   ]
  },
  {
   "cell_type": "code",
   "execution_count": 10,
   "id": "0e842956-55e5-4995-87a3-d8f6d69fb68f",
   "metadata": {},
   "outputs": [
    {
     "data": {
      "text/plain": [
       "63.174"
      ]
     },
     "execution_count": 10,
     "metadata": {},
     "output_type": "execute_result"
    }
   ],
   "source": [
    "df.Latest_mon_usage.mean()"
   ]
  },
  {
   "cell_type": "markdown",
   "id": "4e60665c-4180-4976-a70f-d638160788cf",
   "metadata": {},
   "source": [
    "Two Sample T-test (Paried)"
   ]
  },
  {
   "cell_type": "code",
   "execution_count": 12,
   "id": "6b6b17ae-aa3e-452c-8492-7bb4a092bb75",
   "metadata": {},
   "outputs": [
    {
     "name": "stdout",
     "output_type": "stream",
     "text": [
      "52.23\n",
      "52.775\n",
      "58.0525\n"
     ]
    }
   ],
   "source": [
    "print(df.pre_usage.mean())\n",
    "print(df.Post_usage_1month.mean())\n",
    "print(df.post_usage_2ndmonth.mean())"
   ]
  },
  {
   "cell_type": "code",
   "execution_count": 13,
   "id": "20e871e7-dc9c-4d12-b7ad-a5527af903ed",
   "metadata": {},
   "outputs": [
    {
     "data": {
      "text/plain": [
       "TtestResult(statistic=-0.8673065458794775, pvalue=0.3868186820914985, df=199)"
      ]
     },
     "execution_count": 13,
     "metadata": {},
     "output_type": "execute_result"
    }
   ],
   "source": [
    "stats.ttest_rel(a = df.pre_usage, b = df.Post_usage_1month)"
   ]
  },
  {
   "cell_type": "markdown",
   "id": "1002f677-2870-46d9-b436-60b85562c2fe",
   "metadata": {},
   "source": [
    "p-value is less than 0.5 so we fail to reject the null hypothesis."
   ]
  },
  {
   "cell_type": "markdown",
   "id": "eb99ea6e-c1ed-47b3-ac86-b6e42090a1c6",
   "metadata": {},
   "source": [
    "Two Sample T-test (Independent)"
   ]
  },
  {
   "cell_type": "code",
   "execution_count": 16,
   "id": "021abf5a-5f6c-421b-bc5c-2bab14addcf5",
   "metadata": {},
   "outputs": [],
   "source": [
    "Males_spend = df.Post_usage_1month[df.sex == 0]\n",
    "Females_spend = df.Post_usage_1month[df.sex == 1]"
   ]
  },
  {
   "cell_type": "code",
   "execution_count": 17,
   "id": "8ff7e208-c6fc-4c54-9f7d-32d5cfff3b29",
   "metadata": {},
   "outputs": [
    {
     "name": "stdout",
     "output_type": "stream",
     "text": [
      "0    52\n",
      "2    33\n",
      "3    44\n",
      "4    52\n",
      "5    52\n",
      "Name: Post_usage_1month, dtype: int64\n",
      "1     59\n",
      "92    62\n",
      "93    44\n",
      "94    44\n",
      "95    62\n",
      "Name: Post_usage_1month, dtype: int64\n"
     ]
    }
   ],
   "source": [
    "print(Males_spend.head())\n",
    "print(Females_spend.head())"
   ]
  },
  {
   "cell_type": "code",
   "execution_count": 18,
   "id": "cd0372fa-111e-4f9f-a207-f563d13366de",
   "metadata": {},
   "outputs": [
    {
     "name": "stdout",
     "output_type": "stream",
     "text": [
      "50.120879120879124\n",
      "54.99082568807339\n"
     ]
    }
   ],
   "source": [
    "print(Males_spend.mean())\n",
    "print(Females_spend.mean())"
   ]
  },
  {
   "cell_type": "code",
   "execution_count": 19,
   "id": "6baeba76-6444-45a8-8d2f-b8bbf61b6ad4",
   "metadata": {},
   "outputs": [
    {
     "name": "stdout",
     "output_type": "stream",
     "text": [
      "10.305160697259263\n",
      "8.13371516959346\n"
     ]
    }
   ],
   "source": [
    "print(Males_spend.std())\n",
    "print(Females_spend.std())"
   ]
  },
  {
   "cell_type": "code",
   "execution_count": 20,
   "id": "091bfdcc-8c35-431b-9288-cec2abb9c879",
   "metadata": {},
   "outputs": [
    {
     "data": {
      "text/plain": [
       "TtestResult(statistic=-3.656408047887528, pvalue=0.0003408849359426619, df=169.7073800375754)"
      ]
     },
     "execution_count": 20,
     "metadata": {},
     "output_type": "execute_result"
    }
   ],
   "source": [
    "stats.ttest_ind(a = Males_spend, b = Females_spend, equal_var = False)"
   ]
  },
  {
   "cell_type": "code",
   "execution_count": 21,
   "id": "9fdb3e64-4221-4338-a683-fbcd5dab1464",
   "metadata": {},
   "outputs": [
    {
     "data": {
      "text/plain": [
       "F_onewayResult(statistic=13.94330754080599, pvalue=0.0002462546120354903)"
      ]
     },
     "execution_count": 21,
     "metadata": {},
     "output_type": "execute_result"
    }
   ],
   "source": [
    "# we can use ANOVA as well.\n",
    "stats.f_oneway(Males_spend, Females_spend)"
   ]
  },
  {
   "cell_type": "markdown",
   "id": "b93a366a-6619-418c-97d0-0f6fc1ece56d",
   "metadata": {},
   "source": [
    "p-value if less than 0.05 we reject the null hypothesis, hence there is a differnce betwee how much a male and a female spends"
   ]
  },
  {
   "cell_type": "markdown",
   "id": "106103f5-513f-4216-8fd1-fbd3b897d3d4",
   "metadata": {},
   "source": [
    "ANOVA Test"
   ]
  },
  {
   "cell_type": "code",
   "execution_count": 22,
   "id": "bf99f5a2-5f87-41aa-91d4-db1d298719fe",
   "metadata": {},
   "outputs": [
    {
     "data": {
      "text/plain": [
       "segment\n",
       "2    105\n",
       "3     50\n",
       "1     45\n",
       "Name: count, dtype: int64"
      ]
     },
     "execution_count": 22,
     "metadata": {},
     "output_type": "execute_result"
    }
   ],
   "source": [
    "df.segment.value_counts()"
   ]
  },
  {
   "cell_type": "code",
   "execution_count": 24,
   "id": "c2f7b4ab-31d9-4c5a-a8b2-e82b796473a0",
   "metadata": {},
   "outputs": [
    {
     "data": {
      "text/plain": [
       "F_onewayResult(statistic=29.279283801321778, pvalue=7.36401083352674e-12)"
      ]
     },
     "execution_count": 24,
     "metadata": {},
     "output_type": "execute_result"
    }
   ],
   "source": [
    "s1 = df.Latest_mon_usage[df.segment == 1]\n",
    "s2 = df.Latest_mon_usage[df.segment == 2]\n",
    "s3 = df.Latest_mon_usage[df.segment == 3]\n",
    "\n",
    "# perform ANOVA test\n",
    "stats.f_oneway(s1, s2, s3)"
   ]
  },
  {
   "cell_type": "markdown",
   "id": "2c5a18ed-f830-457c-97d2-05a3bf0c04f7",
   "metadata": {},
   "source": [
    "pvalues is less than 0.05. we reject the null hypothesis which means there is a siginficant difference betweeen the average of the segments.\n",
    "\n",
    "if fvalue is high that means the segments are differnt and when the segments are different that means there is a realtionship between variables"
   ]
  },
  {
   "cell_type": "code",
   "execution_count": 25,
   "id": "d100d8fc-72b0-4eef-b3d1-95fc1647f6b1",
   "metadata": {},
   "outputs": [
    {
     "name": "stdout",
     "output_type": "stream",
     "text": [
      "60.02666666666667 68.08 55.70399999999999\n"
     ]
    }
   ],
   "source": [
    "print(s1.mean(), s2.mean(), s3.mean() )"
   ]
  },
  {
   "cell_type": "markdown",
   "id": "f576b802-139d-4fad-9320-4a34ef637c03",
   "metadata": {},
   "source": [
    "ChiSquare Test"
   ]
  },
  {
   "cell_type": "code",
   "execution_count": 26,
   "id": "67eb2dce-5b97-4751-be91-91c14f759193",
   "metadata": {},
   "outputs": [
    {
     "data": {
      "text/html": [
       "<div>\n",
       "<style scoped>\n",
       "    .dataframe tbody tr th:only-of-type {\n",
       "        vertical-align: middle;\n",
       "    }\n",
       "\n",
       "    .dataframe tbody tr th {\n",
       "        vertical-align: top;\n",
       "    }\n",
       "\n",
       "    .dataframe thead th {\n",
       "        text-align: right;\n",
       "    }\n",
       "</style>\n",
       "<table border=\"1\" class=\"dataframe\">\n",
       "  <thead>\n",
       "    <tr style=\"text-align: right;\">\n",
       "      <th>region</th>\n",
       "      <th>1</th>\n",
       "      <th>2</th>\n",
       "      <th>3</th>\n",
       "      <th>All</th>\n",
       "    </tr>\n",
       "    <tr>\n",
       "      <th>segment</th>\n",
       "      <th></th>\n",
       "      <th></th>\n",
       "      <th></th>\n",
       "      <th></th>\n",
       "    </tr>\n",
       "  </thead>\n",
       "  <tbody>\n",
       "    <tr>\n",
       "      <th>1</th>\n",
       "      <td>16</td>\n",
       "      <td>20</td>\n",
       "      <td>9</td>\n",
       "      <td>45</td>\n",
       "    </tr>\n",
       "    <tr>\n",
       "      <th>2</th>\n",
       "      <td>19</td>\n",
       "      <td>44</td>\n",
       "      <td>42</td>\n",
       "      <td>105</td>\n",
       "    </tr>\n",
       "    <tr>\n",
       "      <th>3</th>\n",
       "      <td>12</td>\n",
       "      <td>31</td>\n",
       "      <td>7</td>\n",
       "      <td>50</td>\n",
       "    </tr>\n",
       "    <tr>\n",
       "      <th>All</th>\n",
       "      <td>47</td>\n",
       "      <td>95</td>\n",
       "      <td>58</td>\n",
       "      <td>200</td>\n",
       "    </tr>\n",
       "  </tbody>\n",
       "</table>\n",
       "</div>"
      ],
      "text/plain": [
       "region    1   2   3  All\n",
       "segment                 \n",
       "1        16  20   9   45\n",
       "2        19  44  42  105\n",
       "3        12  31   7   50\n",
       "All      47  95  58  200"
      ]
     },
     "execution_count": 26,
     "metadata": {},
     "output_type": "execute_result"
    }
   ],
   "source": [
    "t = pd.crosstab(df.segment, df.region, margins = True)\n",
    "t\n",
    "# actual distribution between segment and region"
   ]
  },
  {
   "cell_type": "code",
   "execution_count": 27,
   "id": "179bf3b3-43a8-49c5-bbec-590c3c580026",
   "metadata": {},
   "outputs": [
    {
     "data": {
      "text/plain": [
       "Chi2ContingencyResult(statistic=16.60444164948934, pvalue=0.055282939487992365, dof=9, expected_freq=array([[ 10.575,  21.375,  13.05 ,  45.   ],\n",
       "       [ 24.675,  49.875,  30.45 , 105.   ],\n",
       "       [ 11.75 ,  23.75 ,  14.5  ,  50.   ],\n",
       "       [ 47.   ,  95.   ,  58.   , 200.   ]]))"
      ]
     },
     "execution_count": 27,
     "metadata": {},
     "output_type": "execute_result"
    }
   ],
   "source": [
    "stats.chi2_contingency(observed = t)"
   ]
  },
  {
   "cell_type": "markdown",
   "id": "c06e6a63-cda4-49e5-b410-e874bca225d9",
   "metadata": {},
   "source": [
    "Based on the p-value we can say thereis a realtionshion between region and segment"
   ]
  },
  {
   "cell_type": "markdown",
   "id": "be52b152-460a-405c-b322-28ce2e757572",
   "metadata": {},
   "source": [
    "Correlation"
   ]
  },
  {
   "cell_type": "code",
   "execution_count": 28,
   "id": "eb8793e2-3b1c-4d8d-acf9-f3a4774b2f65",
   "metadata": {},
   "outputs": [
    {
     "name": "stdout",
     "output_type": "stream",
     "text": [
      "[[1.         0.61744926]\n",
      " [0.61744926 1.        ]]\n"
     ]
    }
   ],
   "source": [
    "print(np.corrcoef(df.Latest_mon_usage, df.Post_usage_1month))"
   ]
  },
  {
   "cell_type": "code",
   "execution_count": 29,
   "id": "d835e3a4-17dc-413c-82a6-6ca47fd92bfd",
   "metadata": {},
   "outputs": [
    {
     "name": "stdout",
     "output_type": "stream",
     "text": [
      "PearsonRResult(statistic=0.6174492644854912, pvalue=2.0866647416873645e-22)\n"
     ]
    },
    {
     "name": "stderr",
     "output_type": "stream",
     "text": [
      "/var/folders/x1/3h80s1d10bx2rgftf2cxmc980000gn/T/ipykernel_94473/2688234696.py:1: DeprecationWarning: Please import `pearsonr` from the `scipy.stats` namespace; the `scipy.stats.stats` namespace is deprecated and will be removed in SciPy 2.0.0.\n",
      "  print(stats.stats.pearsonr(df.Latest_mon_usage, df.Post_usage_1month))\n"
     ]
    }
   ],
   "source": [
    "print(stats.stats.pearsonr(df.Latest_mon_usage, df.Post_usage_1month))"
   ]
  },
  {
   "cell_type": "markdown",
   "id": "e51e662b-e12f-4f94-b34d-4a2a4ecc20ef",
   "metadata": {},
   "source": [
    "Since pval is less than 0.05 we reject the NULL hypothesis and there is a relationship\n",
    "\n",
    "Correlation talks about the linear relationship between the variables. That means if one is changing the other is also changing."
   ]
  },
  {
   "cell_type": "code",
   "execution_count": null,
   "id": "3976586e-749f-4f44-a666-0dc750fa9506",
   "metadata": {},
   "outputs": [],
   "source": []
  }
 ],
 "metadata": {
  "kernelspec": {
   "display_name": "Python 3 (ipykernel)",
   "language": "python",
   "name": "python3"
  },
  "language_info": {
   "codemirror_mode": {
    "name": "ipython",
    "version": 3
   },
   "file_extension": ".py",
   "mimetype": "text/x-python",
   "name": "python",
   "nbconvert_exporter": "python",
   "pygments_lexer": "ipython3",
   "version": "3.12.2"
  }
 },
 "nbformat": 4,
 "nbformat_minor": 5
}
