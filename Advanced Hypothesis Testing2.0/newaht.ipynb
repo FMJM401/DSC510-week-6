{
 "cells": [
  {
   "cell_type": "markdown",
   "id": "da3f8d69-fb3f-4bdb-8fa8-f45200660705",
   "metadata": {},
   "source": [
    "Advanced Hypothesis Testing\n",
    "\n"
   ]
  },
  {
   "cell_type": "markdown",
   "id": "88ee162b-37d3-4f0e-86d6-f025c650f980",
   "metadata": {},
   "source": [
    "This assignment aims to enhance proficiency in statistical analysis and hypothesis testing in Python utilizing real-world datasets to conduct hypothesis tests for paired data, multiple population means, and variance comparison, cultivating a deeper understanding of the statistical method's limitation and reliability through exploring assumptions, potential consequences of violating them, and their remedies.\n",
    "\n",
    "Task 1: Paired Data Analysis\n",
    "\n",
    "-Find a suitable dataset with paired data from a reliable source.\n",
    "\n",
    "-Write a Jupyter notebook to import the dataset and perform a hypothesis test for paired data.\n",
    "\n",
    "-Explain the problem, data, research question, and the appropriate statistical test that you would use to address the research question.\n",
    "\n",
    "-Discuss the assumptions underlying the hypothesis test, potential consequences of violating these assumptions, and possible remedies.\n",
    "\n",
    "-Propose a Python tool to assist with the interpretation of the results of the statistical test and visualizations.\n",
    "\n",
    "=Record a 3- to 4-minute video explaining the analysis, results, and interpretation of the hypothesis test.\n",
    "\n",
    "Task 2: Multiple Population Means Analysis\n",
    "\n",
    "-Find a suitable dataset with more than two populations means from a reliable source.\n",
    "\n",
    "-Continuing in the same Jupyter notebook, write a code to import the dataset and perform a hypothesis test for more than two population means.\n",
    "\n",
    "-Explain the problem, data, research question, and the appropriate statistical test that you would use to address the research question.\n",
    "\n",
    "-Discuss the assumptions underlying the hypothesis test, potential consequences of violating these assumptions, and possible remedies.\n",
    "\n",
    "-Propose a Python tool to assist with the interpretation of the results of the statistical test and visualizations.\n",
    "\n",
    "-Record a 3- to 4-minute video explaining the analysis, results, and interpretation of the hypothesis test.\n",
    "\n",
    "\n",
    "Task 3: Variance Comparison Analysis\n",
    "\n",
    "-Find a suitable dataset with two or more populations with variances to compare from a reliable source.\n",
    "\n",
    "-Continuing in the same Jupyter notebook, write a code to import the dataset and perform a hypothesis test for variance comparison.\n",
    "\n",
    "-Explain the problem, data, research question, and the appropriate statistical test that you would use to address the research question.\n",
    "\n",
    "-Discuss the assumptions underlying the hypothesis test, potential consequences of violating these assumptions, and possible remedies.\n",
    "\n",
    "-Propose a Python tool to assist with the interpretation of the results of the statistical test and visualizations.\n",
    "\n",
    "-Record a 3- to 4-minute video explaining the analysis, results, and interpretation of the hypothesis test."
   ]
  },
  {
   "cell_type": "markdown",
   "id": "0e230b94-83dd-4927-b6bd-a167dd49377e",
   "metadata": {},
   "source": [
    "Resources\n",
    "A/B test data. (n.d.). Www.kaggle.com. Retrieved March 31, 2024, from https://www.kaggle.com/datasets/sergylog/ab-test-data\n",
    "\n",
    "Fast Food Marketing Campaign A\\B Test. (n.d.). Www.kaggle.com. https://www.kaggle.com/datasets/chebotinaa/fast-food-marketing-campaign-ab-test\n",
    "\n",
    "\n",
    "Mobile Games: A/B Testing. (n.d.). Www.kaggle.com. Retrieved March 31, 2024, from https://www.kaggle.com/datasets/yufengsui/mobile-games-ab-testing/data\n",
    "\n",
    "\n",
    "\n",
    "Video Link:\n",
    "\n",
    "Github link: https://github.com/FMJM401/DSC510-week-6/tree/main/Advanced%20Hypothesis%20Testing"
   ]
  },
  {
   "cell_type": "code",
   "execution_count": 9,
   "id": "d96695fe-569e-461f-8d19-57648ab91bee",
   "metadata": {},
   "outputs": [],
   "source": [
    "import numpy as np\n",
    "import pandas as pd\n",
    "import matplotlib.pyplot as plt\n",
    "import seaborn as sns\n",
    "import statsmodels.stats.api as sms\n",
    "from scipy.stats import ttest_1samp, shapiro, levene, ttest_ind, mannwhitneyu, \\\n",
    "    pearsonr, spearmanr, kendalltau, f_oneway, kruskal\n",
    "from statsmodels.stats.proportion import proportions_ztest"
   ]
  },
  {
   "cell_type": "markdown",
   "id": "153c037b-6332-410b-a527-0a295bc5e950",
   "metadata": {},
   "source": [
    "Task 1: Paired Data Analysis"
   ]
  },
  {
   "cell_type": "markdown",
   "id": "54b0948b-8d8c-455c-85a9-9f48dc34bb05",
   "metadata": {},
   "source": [
    "Problem: What is the output for the video game Cookie cats?\n",
    "\n",
    "Research Question: Which type of test should be performed in orde ot figure out the result for the video game cookie cats?\n",
    "\n",
    "\n",
    "Statical Approach: normailty and non parametic"
   ]
  },
  {
   "cell_type": "code",
   "execution_count": 38,
   "id": "5a7019c2-338c-4180-b699-695ee0891fbb",
   "metadata": {},
   "outputs": [
    {
     "data": {
      "text/html": [
       "<div>\n",
       "<style scoped>\n",
       "    .dataframe tbody tr th:only-of-type {\n",
       "        vertical-align: middle;\n",
       "    }\n",
       "\n",
       "    .dataframe tbody tr th {\n",
       "        vertical-align: top;\n",
       "    }\n",
       "\n",
       "    .dataframe thead th {\n",
       "        text-align: right;\n",
       "    }\n",
       "</style>\n",
       "<table border=\"1\" class=\"dataframe\">\n",
       "  <thead>\n",
       "    <tr style=\"text-align: right;\">\n",
       "      <th></th>\n",
       "      <th>userid</th>\n",
       "      <th>version</th>\n",
       "      <th>sum_gamerounds</th>\n",
       "      <th>retention_1</th>\n",
       "      <th>retention_7</th>\n",
       "    </tr>\n",
       "  </thead>\n",
       "  <tbody>\n",
       "    <tr>\n",
       "      <th>0</th>\n",
       "      <td>116</td>\n",
       "      <td>gate_30</td>\n",
       "      <td>3</td>\n",
       "      <td>False</td>\n",
       "      <td>False</td>\n",
       "    </tr>\n",
       "    <tr>\n",
       "      <th>1</th>\n",
       "      <td>337</td>\n",
       "      <td>gate_30</td>\n",
       "      <td>38</td>\n",
       "      <td>True</td>\n",
       "      <td>False</td>\n",
       "    </tr>\n",
       "    <tr>\n",
       "      <th>2</th>\n",
       "      <td>377</td>\n",
       "      <td>gate_40</td>\n",
       "      <td>165</td>\n",
       "      <td>True</td>\n",
       "      <td>False</td>\n",
       "    </tr>\n",
       "    <tr>\n",
       "      <th>3</th>\n",
       "      <td>483</td>\n",
       "      <td>gate_40</td>\n",
       "      <td>1</td>\n",
       "      <td>False</td>\n",
       "      <td>False</td>\n",
       "    </tr>\n",
       "    <tr>\n",
       "      <th>4</th>\n",
       "      <td>488</td>\n",
       "      <td>gate_40</td>\n",
       "      <td>179</td>\n",
       "      <td>True</td>\n",
       "      <td>True</td>\n",
       "    </tr>\n",
       "  </tbody>\n",
       "</table>\n",
       "</div>"
      ],
      "text/plain": [
       "   userid  version  sum_gamerounds  retention_1  retention_7\n",
       "0     116  gate_30               3        False        False\n",
       "1     337  gate_30              38         True        False\n",
       "2     377  gate_40             165         True        False\n",
       "3     483  gate_40               1        False        False\n",
       "4     488  gate_40             179         True         True"
      ]
     },
     "execution_count": 38,
     "metadata": {},
     "output_type": "execute_result"
    }
   ],
   "source": [
    "mob = pd.read_csv('cookie_cats.csv')\n",
    "mob.head()"
   ]
  },
  {
   "cell_type": "code",
   "execution_count": 39,
   "id": "7054adfe-8542-4915-a6dd-d56b4adc57fc",
   "metadata": {},
   "outputs": [
    {
     "data": {
      "text/plain": [
       "(90189, 5)"
      ]
     },
     "execution_count": 39,
     "metadata": {},
     "output_type": "execute_result"
    }
   ],
   "source": [
    "mob.shape"
   ]
  },
  {
   "cell_type": "code",
   "execution_count": 40,
   "id": "8ebb5594-29d1-48b7-a9b8-e6e27ce8a132",
   "metadata": {},
   "outputs": [
    {
     "data": {
      "text/plain": [
       "0"
      ]
     },
     "execution_count": 40,
     "metadata": {},
     "output_type": "execute_result"
    }
   ],
   "source": [
    "mob.duplicated().sum()"
   ]
  },
  {
   "cell_type": "code",
   "execution_count": 41,
   "id": "c3c47b88-4122-40f5-86c5-717d8b7eaf31",
   "metadata": {},
   "outputs": [
    {
     "data": {
      "text/plain": [
       "(50.599466713113756, 53.145446746399045)"
      ]
     },
     "execution_count": 41,
     "metadata": {},
     "output_type": "execute_result"
    }
   ],
   "source": [
    "sms.DescrStatsW(mob[\"sum_gamerounds\"]).tconfint_mean() # we checked confidience intervals before sampling"
   ]
  },
  {
   "cell_type": "code",
   "execution_count": 42,
   "id": "9f7477db-e6b1-4a23-8dee-6fcbd1e9b7ec",
   "metadata": {},
   "outputs": [
    {
     "data": {
      "text/plain": [
       "51.9722"
      ]
     },
     "execution_count": 42,
     "metadata": {},
     "output_type": "execute_result"
    }
   ],
   "source": [
    "sample = mob.sample(n=5000, random_state=42)\n",
    "\n",
    "sample[\"sum_gamerounds\"].mean()"
   ]
  },
  {
   "cell_type": "markdown",
   "id": "df71f19d-fae8-4ff8-8a2c-69dbd2be2f4c",
   "metadata": {},
   "source": [
    "Hypothesis Testing"
   ]
  },
  {
   "cell_type": "code",
   "execution_count": 43,
   "id": "3f3e494b-d6ba-4bed-9269-a5f70901326e",
   "metadata": {},
   "outputs": [
    {
     "data": {
      "text/html": [
       "<div>\n",
       "<style scoped>\n",
       "    .dataframe tbody tr th:only-of-type {\n",
       "        vertical-align: middle;\n",
       "    }\n",
       "\n",
       "    .dataframe tbody tr th {\n",
       "        vertical-align: top;\n",
       "    }\n",
       "\n",
       "    .dataframe thead tr th {\n",
       "        text-align: left;\n",
       "    }\n",
       "\n",
       "    .dataframe thead tr:last-of-type th {\n",
       "        text-align: right;\n",
       "    }\n",
       "</style>\n",
       "<table border=\"1\" class=\"dataframe\">\n",
       "  <thead>\n",
       "    <tr>\n",
       "      <th></th>\n",
       "      <th colspan=\"2\" halign=\"left\">sum_gamerounds</th>\n",
       "    </tr>\n",
       "    <tr>\n",
       "      <th></th>\n",
       "      <th>count</th>\n",
       "      <th>mean</th>\n",
       "    </tr>\n",
       "    <tr>\n",
       "      <th>version</th>\n",
       "      <th></th>\n",
       "      <th></th>\n",
       "    </tr>\n",
       "  </thead>\n",
       "  <tbody>\n",
       "    <tr>\n",
       "      <th>gate_30</th>\n",
       "      <td>2503</td>\n",
       "      <td>52.296444</td>\n",
       "    </tr>\n",
       "    <tr>\n",
       "      <th>gate_40</th>\n",
       "      <td>2497</td>\n",
       "      <td>51.647177</td>\n",
       "    </tr>\n",
       "  </tbody>\n",
       "</table>\n",
       "</div>"
      ],
      "text/plain": [
       "        sum_gamerounds           \n",
       "                 count       mean\n",
       "version                          \n",
       "gate_30           2503  52.296444\n",
       "gate_40           2497  51.647177"
      ]
     },
     "execution_count": 43,
     "metadata": {},
     "output_type": "execute_result"
    }
   ],
   "source": [
    "sample.groupby('version').agg({\"sum_gamerounds\": [\"count\", \"mean\"]})"
   ]
  },
  {
   "cell_type": "markdown",
   "id": "d12b152f-06af-46bd-8fda-c2cdd1a94116",
   "metadata": {},
   "source": [
    "Normality Assumption"
   ]
  },
  {
   "cell_type": "code",
   "execution_count": 44,
   "id": "d45483db-df1c-49f1-9747-d2c866ff635b",
   "metadata": {},
   "outputs": [
    {
     "name": "stdout",
     "output_type": "stream",
     "text": [
      "Version: gate_30 \n",
      "Statistic: 0.468\n",
      "p-Value: 0.000\n",
      "\n",
      "Version: gate_40 \n",
      "Statistic: 0.494\n",
      "p-Value: 0.000\n",
      "\n"
     ]
    }
   ],
   "source": [
    "for gate in sample[\"version\"].unique():\n",
    "    \n",
    "    s,p = shapiro(sample.loc[sample['version'] == gate,\"sum_gamerounds\"])\n",
    "    \n",
    "    print(f\"Version: {gate} \\nStatistic: {s:.3f}\\np-Value: {p:.3f}\\n\")"
   ]
  },
  {
   "cell_type": "markdown",
   "id": "b9758bee-7c94-400b-bf86-6f986e60a2d7",
   "metadata": {},
   "source": [
    "Non - Parametic Test"
   ]
  },
  {
   "cell_type": "code",
   "execution_count": 45,
   "id": "e232429d-1497-4478-9983-f55e4c7c8f4a",
   "metadata": {},
   "outputs": [
    {
     "name": "stdout",
     "output_type": "stream",
     "text": [
      "\n",
      "Statistic: 3120414.500\n",
      "p-Value: 0.928\n",
      "\n"
     ]
    }
   ],
   "source": [
    "s,p = mannwhitneyu(sample.loc[sample['version']==\"gate_30\",\"sum_gamerounds\"],\n",
    "             sample.loc[sample['version']==\"gate_40\",\"sum_gamerounds\"])\n",
    "\n",
    "print(f\"\\nStatistic: {s:.3f}\\np-Value: {p:.3f}\\n\")"
   ]
  },
  {
   "cell_type": "markdown",
   "id": "5cccbb7b-a1a1-4ea3-8218-3a2b0ae48135",
   "metadata": {},
   "source": [
    "Task 2: Multiple Population Means Analysis"
   ]
  },
  {
   "cell_type": "markdown",
   "id": "020ba9c5-5c82-4847-8ccf-becc99d27f92",
   "metadata": {},
   "source": [
    "Problem: What are the test reults from the AB test?\n",
    "\n",
    "Research Question: is the varienct controlled or regular?\n",
    "\n",
    "Statical Approach: normailty and non parametic"
   ]
  },
  {
   "cell_type": "code",
   "execution_count": 12,
   "id": "09c9a575-6124-45d0-97c7-8fad461b8819",
   "metadata": {},
   "outputs": [
    {
     "data": {
      "text/html": [
       "<div>\n",
       "<style scoped>\n",
       "    .dataframe tbody tr th:only-of-type {\n",
       "        vertical-align: middle;\n",
       "    }\n",
       "\n",
       "    .dataframe tbody tr th {\n",
       "        vertical-align: top;\n",
       "    }\n",
       "\n",
       "    .dataframe thead th {\n",
       "        text-align: right;\n",
       "    }\n",
       "</style>\n",
       "<table border=\"1\" class=\"dataframe\">\n",
       "  <thead>\n",
       "    <tr style=\"text-align: right;\">\n",
       "      <th></th>\n",
       "      <th>USER_ID</th>\n",
       "      <th>VARIANT_NAME</th>\n",
       "      <th>REVENUE</th>\n",
       "    </tr>\n",
       "  </thead>\n",
       "  <tbody>\n",
       "    <tr>\n",
       "      <th>0</th>\n",
       "      <td>737</td>\n",
       "      <td>variant</td>\n",
       "      <td>0.0</td>\n",
       "    </tr>\n",
       "    <tr>\n",
       "      <th>1</th>\n",
       "      <td>2423</td>\n",
       "      <td>control</td>\n",
       "      <td>0.0</td>\n",
       "    </tr>\n",
       "    <tr>\n",
       "      <th>2</th>\n",
       "      <td>9411</td>\n",
       "      <td>control</td>\n",
       "      <td>0.0</td>\n",
       "    </tr>\n",
       "    <tr>\n",
       "      <th>3</th>\n",
       "      <td>7311</td>\n",
       "      <td>control</td>\n",
       "      <td>0.0</td>\n",
       "    </tr>\n",
       "    <tr>\n",
       "      <th>4</th>\n",
       "      <td>6174</td>\n",
       "      <td>variant</td>\n",
       "      <td>0.0</td>\n",
       "    </tr>\n",
       "  </tbody>\n",
       "</table>\n",
       "</div>"
      ],
      "text/plain": [
       "   USER_ID VARIANT_NAME  REVENUE\n",
       "0      737      variant      0.0\n",
       "1     2423      control      0.0\n",
       "2     9411      control      0.0\n",
       "3     7311      control      0.0\n",
       "4     6174      variant      0.0"
      ]
     },
     "execution_count": 12,
     "metadata": {},
     "output_type": "execute_result"
    }
   ],
   "source": [
    "df = pd.read_csv('AB_Test_Results.csv')\n",
    "df.head()"
   ]
  },
  {
   "cell_type": "code",
   "execution_count": 13,
   "id": "ca7b9173-67b6-4656-86ac-a60bed91a402",
   "metadata": {},
   "outputs": [
    {
     "data": {
      "text/html": [
       "<div>\n",
       "<style scoped>\n",
       "    .dataframe tbody tr th:only-of-type {\n",
       "        vertical-align: middle;\n",
       "    }\n",
       "\n",
       "    .dataframe tbody tr th {\n",
       "        vertical-align: top;\n",
       "    }\n",
       "\n",
       "    .dataframe thead th {\n",
       "        text-align: right;\n",
       "    }\n",
       "</style>\n",
       "<table border=\"1\" class=\"dataframe\">\n",
       "  <thead>\n",
       "    <tr style=\"text-align: right;\">\n",
       "      <th></th>\n",
       "      <th>count</th>\n",
       "      <th>mean</th>\n",
       "      <th>std</th>\n",
       "      <th>min</th>\n",
       "      <th>25%</th>\n",
       "      <th>50%</th>\n",
       "      <th>75%</th>\n",
       "      <th>max</th>\n",
       "    </tr>\n",
       "  </thead>\n",
       "  <tbody>\n",
       "    <tr>\n",
       "      <th>USER_ID</th>\n",
       "      <td>10000.0</td>\n",
       "      <td>4981.080200</td>\n",
       "      <td>2890.590115</td>\n",
       "      <td>2.0</td>\n",
       "      <td>2468.75</td>\n",
       "      <td>4962.0</td>\n",
       "      <td>7511.5</td>\n",
       "      <td>10000.00</td>\n",
       "    </tr>\n",
       "    <tr>\n",
       "      <th>REVENUE</th>\n",
       "      <td>10000.0</td>\n",
       "      <td>0.099447</td>\n",
       "      <td>2.318529</td>\n",
       "      <td>0.0</td>\n",
       "      <td>0.00</td>\n",
       "      <td>0.0</td>\n",
       "      <td>0.0</td>\n",
       "      <td>196.01</td>\n",
       "    </tr>\n",
       "  </tbody>\n",
       "</table>\n",
       "</div>"
      ],
      "text/plain": [
       "           count         mean          std  min      25%     50%     75%  \\\n",
       "USER_ID  10000.0  4981.080200  2890.590115  2.0  2468.75  4962.0  7511.5   \n",
       "REVENUE  10000.0     0.099447     2.318529  0.0     0.00     0.0     0.0   \n",
       "\n",
       "              max  \n",
       "USER_ID  10000.00  \n",
       "REVENUE    196.01  "
      ]
     },
     "execution_count": 13,
     "metadata": {},
     "output_type": "execute_result"
    }
   ],
   "source": [
    "df.describe().T"
   ]
  },
  {
   "cell_type": "code",
   "execution_count": 14,
   "id": "7cf78298-e00d-4d03-9030-5d762a0dd4ad",
   "metadata": {},
   "outputs": [
    {
     "data": {
      "text/html": [
       "<div>\n",
       "<style scoped>\n",
       "    .dataframe tbody tr th:only-of-type {\n",
       "        vertical-align: middle;\n",
       "    }\n",
       "\n",
       "    .dataframe tbody tr th {\n",
       "        vertical-align: top;\n",
       "    }\n",
       "\n",
       "    .dataframe thead th {\n",
       "        text-align: right;\n",
       "    }\n",
       "</style>\n",
       "<table border=\"1\" class=\"dataframe\">\n",
       "  <thead>\n",
       "    <tr style=\"text-align: right;\">\n",
       "      <th></th>\n",
       "      <th>USER_ID</th>\n",
       "      <th>VARIANT_NAME</th>\n",
       "      <th>REVENUE</th>\n",
       "    </tr>\n",
       "  </thead>\n",
       "  <tbody>\n",
       "    <tr>\n",
       "      <th>1437</th>\n",
       "      <td>3342</td>\n",
       "      <td>control</td>\n",
       "      <td>196.01</td>\n",
       "    </tr>\n",
       "    <tr>\n",
       "      <th>6447</th>\n",
       "      <td>2881</td>\n",
       "      <td>variant</td>\n",
       "      <td>58.63</td>\n",
       "    </tr>\n",
       "    <tr>\n",
       "      <th>7642</th>\n",
       "      <td>7206</td>\n",
       "      <td>variant</td>\n",
       "      <td>57.46</td>\n",
       "    </tr>\n",
       "    <tr>\n",
       "      <th>9421</th>\n",
       "      <td>6792</td>\n",
       "      <td>control</td>\n",
       "      <td>41.53</td>\n",
       "    </tr>\n",
       "    <tr>\n",
       "      <th>8168</th>\n",
       "      <td>2166</td>\n",
       "      <td>control</td>\n",
       "      <td>29.32</td>\n",
       "    </tr>\n",
       "    <tr>\n",
       "      <th>9125</th>\n",
       "      <td>831</td>\n",
       "      <td>control</td>\n",
       "      <td>25.98</td>\n",
       "    </tr>\n",
       "    <tr>\n",
       "      <th>2482</th>\n",
       "      <td>7356</td>\n",
       "      <td>variant</td>\n",
       "      <td>23.04</td>\n",
       "    </tr>\n",
       "    <tr>\n",
       "      <th>6412</th>\n",
       "      <td>1053</td>\n",
       "      <td>control</td>\n",
       "      <td>20.07</td>\n",
       "    </tr>\n",
       "    <tr>\n",
       "      <th>5217</th>\n",
       "      <td>3684</td>\n",
       "      <td>variant</td>\n",
       "      <td>19.47</td>\n",
       "    </tr>\n",
       "    <tr>\n",
       "      <th>5530</th>\n",
       "      <td>282</td>\n",
       "      <td>control</td>\n",
       "      <td>18.56</td>\n",
       "    </tr>\n",
       "    <tr>\n",
       "      <th>1388</th>\n",
       "      <td>7358</td>\n",
       "      <td>control</td>\n",
       "      <td>17.87</td>\n",
       "    </tr>\n",
       "    <tr>\n",
       "      <th>3218</th>\n",
       "      <td>701</td>\n",
       "      <td>control</td>\n",
       "      <td>17.08</td>\n",
       "    </tr>\n",
       "    <tr>\n",
       "      <th>758</th>\n",
       "      <td>4445</td>\n",
       "      <td>control</td>\n",
       "      <td>17.05</td>\n",
       "    </tr>\n",
       "    <tr>\n",
       "      <th>4031</th>\n",
       "      <td>2059</td>\n",
       "      <td>control</td>\n",
       "      <td>14.24</td>\n",
       "    </tr>\n",
       "    <tr>\n",
       "      <th>9724</th>\n",
       "      <td>5205</td>\n",
       "      <td>control</td>\n",
       "      <td>14.17</td>\n",
       "    </tr>\n",
       "  </tbody>\n",
       "</table>\n",
       "</div>"
      ],
      "text/plain": [
       "      USER_ID VARIANT_NAME  REVENUE\n",
       "1437     3342      control   196.01\n",
       "6447     2881      variant    58.63\n",
       "7642     7206      variant    57.46\n",
       "9421     6792      control    41.53\n",
       "8168     2166      control    29.32\n",
       "9125      831      control    25.98\n",
       "2482     7356      variant    23.04\n",
       "6412     1053      control    20.07\n",
       "5217     3684      variant    19.47\n",
       "5530      282      control    18.56\n",
       "1388     7358      control    17.87\n",
       "3218      701      control    17.08\n",
       "758      4445      control    17.05\n",
       "4031     2059      control    14.24\n",
       "9724     5205      control    14.17"
      ]
     },
     "execution_count": 14,
     "metadata": {},
     "output_type": "execute_result"
    }
   ],
   "source": [
    "df.sort_values(by=\"REVENUE\", ascending=False).head(15)"
   ]
  },
  {
   "cell_type": "code",
   "execution_count": 15,
   "id": "4ed16d71-c23f-48ac-9c74-71fccfc3f2b8",
   "metadata": {},
   "outputs": [],
   "source": [
    "df.duplicated().sum() # checked duplicated rows\n",
    "df.drop_duplicates(inplace=True) # dropped duplicated rows"
   ]
  },
  {
   "cell_type": "code",
   "execution_count": 16,
   "id": "2f7eb483-28d1-4ee2-9cd3-594e2e99fa55",
   "metadata": {},
   "outputs": [
    {
     "data": {
      "text/plain": [
       "<Axes: xlabel='REVENUE', ylabel='Density'>"
      ]
     },
     "execution_count": 16,
     "metadata": {},
     "output_type": "execute_result"
    },
    {
     "data": {
      "image/png": "[encoded data removed]",
      "text/plain": [
       "<Figure size 640x480 with 1 Axes>"
      ]
     },
     "metadata": {},
     "output_type": "display_data"
    }
   ],
   "source": [
    "sns.kdeplot(x=\"REVENUE\", data = df, hue = \"VARIANT_NAME\") # checked normall distribition"
   ]
  },
  {
   "cell_type": "code",
   "execution_count": 17,
   "id": "7f48aba4-df33-466b-b581-a2af6eb5d9e0",
   "metadata": {},
   "outputs": [],
   "source": [
    "control = df[df[\"VARIANT_NAME\"]==\"control\"]\n",
    "variant = df[df[\"VARIANT_NAME\"]==\"variant\"]"
   ]
  },
  {
   "cell_type": "code",
   "execution_count": 19,
   "id": "f4eda1e7-5eab-4494-9c4e-8293f86ed0c2",
   "metadata": {},
   "outputs": [
    {
     "data": {
      "text/html": [
       "<div>\n",
       "<style scoped>\n",
       "    .dataframe tbody tr th:only-of-type {\n",
       "        vertical-align: middle;\n",
       "    }\n",
       "\n",
       "    .dataframe tbody tr th {\n",
       "        vertical-align: top;\n",
       "    }\n",
       "\n",
       "    .dataframe thead th {\n",
       "        text-align: right;\n",
       "    }\n",
       "</style>\n",
       "<table border=\"1\" class=\"dataframe\">\n",
       "  <thead>\n",
       "    <tr style=\"text-align: right;\">\n",
       "      <th></th>\n",
       "      <th>count</th>\n",
       "      <th>mean</th>\n",
       "      <th>std</th>\n",
       "      <th>min</th>\n",
       "      <th>25%</th>\n",
       "      <th>50%</th>\n",
       "      <th>75%</th>\n",
       "      <th>max</th>\n",
       "    </tr>\n",
       "  </thead>\n",
       "  <tbody>\n",
       "    <tr>\n",
       "      <th>USER_ID</th>\n",
       "      <td>3973.0</td>\n",
       "      <td>4988.320664</td>\n",
       "      <td>2895.606855</td>\n",
       "      <td>2.0</td>\n",
       "      <td>2474.0</td>\n",
       "      <td>4971.0</td>\n",
       "      <td>7572.0</td>\n",
       "      <td>10000.00</td>\n",
       "    </tr>\n",
       "    <tr>\n",
       "      <th>REVENUE</th>\n",
       "      <td>3973.0</td>\n",
       "      <td>0.161842</td>\n",
       "      <td>3.367815</td>\n",
       "      <td>0.0</td>\n",
       "      <td>0.0</td>\n",
       "      <td>0.0</td>\n",
       "      <td>0.0</td>\n",
       "      <td>196.01</td>\n",
       "    </tr>\n",
       "  </tbody>\n",
       "</table>\n",
       "</div>"
      ],
      "text/plain": [
       "          count         mean          std  min     25%     50%     75%  \\\n",
       "USER_ID  3973.0  4988.320664  2895.606855  2.0  2474.0  4971.0  7572.0   \n",
       "REVENUE  3973.0     0.161842     3.367815  0.0     0.0     0.0     0.0   \n",
       "\n",
       "              max  \n",
       "USER_ID  10000.00  \n",
       "REVENUE    196.01  "
      ]
     },
     "execution_count": 19,
     "metadata": {},
     "output_type": "execute_result"
    }
   ],
   "source": [
    "control.describe().T"
   ]
  },
  {
   "cell_type": "code",
   "execution_count": 20,
   "id": "7752e4f9-b721-4a53-9a87-841081b24475",
   "metadata": {},
   "outputs": [
    {
     "data": {
      "text/html": [
       "<div>\n",
       "<style scoped>\n",
       "    .dataframe tbody tr th:only-of-type {\n",
       "        vertical-align: middle;\n",
       "    }\n",
       "\n",
       "    .dataframe tbody tr th {\n",
       "        vertical-align: top;\n",
       "    }\n",
       "\n",
       "    .dataframe thead th {\n",
       "        text-align: right;\n",
       "    }\n",
       "</style>\n",
       "<table border=\"1\" class=\"dataframe\">\n",
       "  <thead>\n",
       "    <tr style=\"text-align: right;\">\n",
       "      <th></th>\n",
       "      <th>count</th>\n",
       "      <th>mean</th>\n",
       "      <th>std</th>\n",
       "      <th>min</th>\n",
       "      <th>25%</th>\n",
       "      <th>50%</th>\n",
       "      <th>75%</th>\n",
       "      <th>max</th>\n",
       "    </tr>\n",
       "  </thead>\n",
       "  <tbody>\n",
       "    <tr>\n",
       "      <th>USER_ID</th>\n",
       "      <td>3960.0</td>\n",
       "      <td>4965.412374</td>\n",
       "      <td>2889.255440</td>\n",
       "      <td>3.0</td>\n",
       "      <td>2442.75</td>\n",
       "      <td>4958.5</td>\n",
       "      <td>7425.0</td>\n",
       "      <td>10000.00</td>\n",
       "    </tr>\n",
       "    <tr>\n",
       "      <th>REVENUE</th>\n",
       "      <td>3960.0</td>\n",
       "      <td>0.088755</td>\n",
       "      <td>1.479239</td>\n",
       "      <td>0.0</td>\n",
       "      <td>0.00</td>\n",
       "      <td>0.0</td>\n",
       "      <td>0.0</td>\n",
       "      <td>58.63</td>\n",
       "    </tr>\n",
       "  </tbody>\n",
       "</table>\n",
       "</div>"
      ],
      "text/plain": [
       "          count         mean          std  min      25%     50%     75%  \\\n",
       "USER_ID  3960.0  4965.412374  2889.255440  3.0  2442.75  4958.5  7425.0   \n",
       "REVENUE  3960.0     0.088755     1.479239  0.0     0.00     0.0     0.0   \n",
       "\n",
       "              max  \n",
       "USER_ID  10000.00  \n",
       "REVENUE     58.63  "
      ]
     },
     "execution_count": 20,
     "metadata": {},
     "output_type": "execute_result"
    }
   ],
   "source": [
    "variant.describe().T"
   ]
  },
  {
   "cell_type": "markdown",
   "id": "57c6b5a2-cab7-4c81-a64a-483ba1f6bc60",
   "metadata": {},
   "source": [
    "Hypothesis Testing"
   ]
  },
  {
   "cell_type": "code",
   "execution_count": 23,
   "id": "9e8a8d8f-1af9-4801-810a-9f506306553d",
   "metadata": {},
   "outputs": [
    {
     "data": {
      "text/plain": [
       "0.16184243644601057"
      ]
     },
     "execution_count": 23,
     "metadata": {},
     "output_type": "execute_result"
    }
   ],
   "source": [
    "control[\"REVENUE\"].mean()"
   ]
  },
  {
   "cell_type": "code",
   "execution_count": 24,
   "id": "883cc5d9-6a3b-42ff-b87f-1e8e6a4cf149",
   "metadata": {},
   "outputs": [
    {
     "data": {
      "text/plain": [
       "0.08875505050505052"
      ]
     },
     "execution_count": 24,
     "metadata": {},
     "output_type": "execute_result"
    }
   ],
   "source": [
    "variant[\"REVENUE\"].mean()"
   ]
  },
  {
   "cell_type": "markdown",
   "id": "7490e0ea-0aec-481c-9d23-0d927e28ebbd",
   "metadata": {},
   "source": [
    "Normality Assumpiton"
   ]
  },
  {
   "cell_type": "code",
   "execution_count": 25,
   "id": "dd2c57f1-416d-4f9c-8589-8636eac9bd4a",
   "metadata": {},
   "outputs": [
    {
     "name": "stdout",
     "output_type": "stream",
     "text": [
      "Test Stat = 0.0220, p-value = 0.0000\n"
     ]
    }
   ],
   "source": [
    "test_stat, pvalue = shapiro(control[\"REVENUE\"])\n",
    "\n",
    "print('Test Stat = %.4f, p-value = %.4f' % (test_stat, pvalue))"
   ]
  },
  {
   "cell_type": "code",
   "execution_count": 26,
   "id": "302acd6d-b96d-46e5-bfb2-d01ad0710be0",
   "metadata": {},
   "outputs": [
    {
     "name": "stdout",
     "output_type": "stream",
     "text": [
      "Test Stat = 0.0327, p-value = 0.0000\n"
     ]
    }
   ],
   "source": [
    "test_stat, pvalue = shapiro(variant[\"REVENUE\"])\n",
    "\n",
    "print('Test Stat = %.4f, p-value = %.4f' % (test_stat, pvalue))"
   ]
  },
  {
   "cell_type": "markdown",
   "id": "06949801-6f0e-4b1d-b055-9b1492b3643b",
   "metadata": {},
   "source": [
    "Non - Parametic Test"
   ]
  },
  {
   "cell_type": "code",
   "execution_count": 28,
   "id": "56ba09b9-5309-4714-a3d5-9c49711de1c1",
   "metadata": {},
   "outputs": [
    {
     "name": "stdout",
     "output_type": "stream",
     "text": [
      "Test Stat = 7882388.0000, p-value = 0.5129\n"
     ]
    }
   ],
   "source": [
    "test_stat, pvalue = mannwhitneyu(control[\"REVENUE\"],variant[\"REVENUE\"])\n",
    "\n",
    "print('Test Stat = %.4f, p-value = %.4f' % (test_stat, pvalue))"
   ]
  },
  {
   "cell_type": "markdown",
   "id": "5acc5ca9-655c-4ee5-a946-08f5572539ac",
   "metadata": {},
   "source": [
    "Task 3: Variance Comparison Analysis"
   ]
  },
  {
   "cell_type": "markdown",
   "id": "a9c394aa-1a37-42f2-aaf8-f182f717741d",
   "metadata": {},
   "source": [
    "Problem: How would the marketing campagin results come out?\n",
    "\n",
    "Research Question: how are the sales going for the fast food?\n",
    "\n",
    "Statical Approach: comparing results "
   ]
  },
  {
   "cell_type": "code",
   "execution_count": 32,
   "id": "032a56a9-fd84-4194-94c9-0e84f2378d92",
   "metadata": {},
   "outputs": [
    {
     "data": {
      "text/html": [
       "<div>\n",
       "<style scoped>\n",
       "    .dataframe tbody tr th:only-of-type {\n",
       "        vertical-align: middle;\n",
       "    }\n",
       "\n",
       "    .dataframe tbody tr th {\n",
       "        vertical-align: top;\n",
       "    }\n",
       "\n",
       "    .dataframe thead th {\n",
       "        text-align: right;\n",
       "    }\n",
       "</style>\n",
       "<table border=\"1\" class=\"dataframe\">\n",
       "  <thead>\n",
       "    <tr style=\"text-align: right;\">\n",
       "      <th></th>\n",
       "      <th>MarketID</th>\n",
       "      <th>MarketSize</th>\n",
       "      <th>LocationID</th>\n",
       "      <th>AgeOfStore</th>\n",
       "      <th>Promotion</th>\n",
       "      <th>week</th>\n",
       "      <th>SalesInThousands</th>\n",
       "    </tr>\n",
       "  </thead>\n",
       "  <tbody>\n",
       "    <tr>\n",
       "      <th>0</th>\n",
       "      <td>1</td>\n",
       "      <td>Medium</td>\n",
       "      <td>1</td>\n",
       "      <td>4</td>\n",
       "      <td>3</td>\n",
       "      <td>1</td>\n",
       "      <td>33.73</td>\n",
       "    </tr>\n",
       "    <tr>\n",
       "      <th>1</th>\n",
       "      <td>1</td>\n",
       "      <td>Medium</td>\n",
       "      <td>1</td>\n",
       "      <td>4</td>\n",
       "      <td>3</td>\n",
       "      <td>2</td>\n",
       "      <td>35.67</td>\n",
       "    </tr>\n",
       "    <tr>\n",
       "      <th>2</th>\n",
       "      <td>1</td>\n",
       "      <td>Medium</td>\n",
       "      <td>1</td>\n",
       "      <td>4</td>\n",
       "      <td>3</td>\n",
       "      <td>3</td>\n",
       "      <td>29.03</td>\n",
       "    </tr>\n",
       "    <tr>\n",
       "      <th>3</th>\n",
       "      <td>1</td>\n",
       "      <td>Medium</td>\n",
       "      <td>1</td>\n",
       "      <td>4</td>\n",
       "      <td>3</td>\n",
       "      <td>4</td>\n",
       "      <td>39.25</td>\n",
       "    </tr>\n",
       "    <tr>\n",
       "      <th>4</th>\n",
       "      <td>1</td>\n",
       "      <td>Medium</td>\n",
       "      <td>2</td>\n",
       "      <td>5</td>\n",
       "      <td>2</td>\n",
       "      <td>1</td>\n",
       "      <td>27.81</td>\n",
       "    </tr>\n",
       "  </tbody>\n",
       "</table>\n",
       "</div>"
      ],
      "text/plain": [
       "   MarketID MarketSize  LocationID  AgeOfStore  Promotion  week  \\\n",
       "0         1     Medium           1           4          3     1   \n",
       "1         1     Medium           1           4          3     2   \n",
       "2         1     Medium           1           4          3     3   \n",
       "3         1     Medium           1           4          3     4   \n",
       "4         1     Medium           2           5          2     1   \n",
       "\n",
       "   SalesInThousands  \n",
       "0             33.73  \n",
       "1             35.67  \n",
       "2             29.03  \n",
       "3             39.25  \n",
       "4             27.81  "
      ]
     },
     "execution_count": 32,
     "metadata": {},
     "output_type": "execute_result"
    }
   ],
   "source": [
    "fast_food = pd.read_csv('WA_Marketing-Campaign.csv')\n",
    "fast_food.head()"
   ]
  },
  {
   "cell_type": "code",
   "execution_count": 33,
   "id": "7dc0d024-ede4-4116-8c33-4888cbd1b25c",
   "metadata": {},
   "outputs": [
    {
     "data": {
      "text/plain": [
       "Promotion\n",
       "3    188\n",
       "2    188\n",
       "1    172\n",
       "Name: count, dtype: int64"
      ]
     },
     "execution_count": 33,
     "metadata": {},
     "output_type": "execute_result"
    }
   ],
   "source": [
    "fast_food[\"Promotion\"].value_counts()"
   ]
  },
  {
   "cell_type": "code",
   "execution_count": 34,
   "id": "93527833-9aab-40a7-9c16-dc60090b348f",
   "metadata": {},
   "outputs": [],
   "source": [
    "promotion1 = fast_food[fast_food[\"Promotion\"]==\"1\"]\n",
    "promotion2 = fast_food[fast_food[\"Promotion\"]==\"2\"]\n",
    "promotion3 = fast_food[fast_food[\"Promotion\"]==\"3\"]"
   ]
  },
  {
   "cell_type": "markdown",
   "id": "a1d2c9d0-23e4-4272-a0b1-53e2cd0a0477",
   "metadata": {},
   "source": [
    "Normality Assumption"
   ]
  },
  {
   "cell_type": "code",
   "execution_count": 35,
   "id": "1787f796-1eeb-4cbc-8678-fd8b9fb01d9b",
   "metadata": {},
   "outputs": [
    {
     "name": "stdout",
     "output_type": "stream",
     "text": [
      "3 p-value: 0.0000\n",
      "2 p-value: 0.0000\n",
      "1 p-value: 0.0000\n"
     ]
    }
   ],
   "source": [
    "for group in list(fast_food[\"Promotion\"].unique()):\n",
    "    \n",
    "    pvalue = shapiro(fast_food.loc[fast_food[\"Promotion\"] == group, \"SalesInThousands\"])[1]\n",
    "    \n",
    "    print(group, 'p-value: %.4f' % pvalue)"
   ]
  },
  {
   "cell_type": "markdown",
   "id": "f2e003af-b098-4ce8-86b6-1c4ca3b3f25c",
   "metadata": {},
   "source": [
    "Non-Parametic Test"
   ]
  },
  {
   "cell_type": "code",
   "execution_count": 36,
   "id": "d198cbf9-e829-4c46-b6e2-565103fc452e",
   "metadata": {},
   "outputs": [
    {
     "name": "stdout",
     "output_type": "stream",
     "text": [
      "\n",
      "Statistic: 53.295\n",
      "p-Value: 0.000\n",
      "\n"
     ]
    }
   ],
   "source": [
    "s,p = kruskal(fast_food.loc[fast_food[\"Promotion\"] == 1, \"SalesInThousands\"],\n",
    "        fast_food.loc[fast_food[\"Promotion\"] == 2, \"SalesInThousands\"],\n",
    "        fast_food.loc[fast_food[\"Promotion\"] == 3, \"SalesInThousands\"])\n",
    "print(f\"\\nStatistic: {s:.3f}\\np-Value: {p:.3f}\\n\")\n",
    "# The p-value for the hypothesis of equality of promotions is less than 0.05; \n",
    "#therefore, we reject the null hypothesis, indicating that the assumption of equality is not satisfied"
   ]
  },
  {
   "cell_type": "code",
   "execution_count": 37,
   "id": "eb2c38ff-505f-4d80-9ceb-938c77f512eb",
   "metadata": {},
   "outputs": [
    {
     "name": "stdout",
     "output_type": "stream",
     "text": [
      " Multiple Comparison of Means - Tukey HSD, FWER=0.05 \n",
      "=====================================================\n",
      "group1 group2 meandiff p-adj   lower    upper  reject\n",
      "-----------------------------------------------------\n",
      "     1      2 -10.7696    0.0 -14.7738 -6.7654   True\n",
      "     1      3  -2.7345 0.2444  -6.7388  1.2697  False\n",
      "     2      3   8.0351    0.0   4.1208 11.9493   True\n",
      "-----------------------------------------------------\n"
     ]
    }
   ],
   "source": [
    "from statsmodels.stats.multicomp import MultiComparison\n",
    "\n",
    "comparison = MultiComparison(fast_food['SalesInThousands'], fast_food['Promotion'])\n",
    "tukey = comparison.tukeyhsd(0.05)\n",
    "\n",
    "print(tukey.summary())"
   ]
  },
  {
   "cell_type": "code",
   "execution_count": null,
   "id": "d28ab28c-61b9-48f5-9670-e6ae625030ad",
   "metadata": {},
   "outputs": [],
   "source": []
  }
 ],
 "metadata": {
  "kernelspec": {
   "display_name": "Python 3 (ipykernel)",
   "language": "python",
   "name": "python3"
  },
  "language_info": {
   "codemirror_mode": {
    "name": "ipython",
    "version": 3
   },
   "file_extension": ".py",
   "mimetype": "text/x-python",
   "name": "python",
   "nbconvert_exporter": "python",
   "pygments_lexer": "ipython3",
   "version": "3.12.2"
  }
 },
 "nbformat": 4,
 "nbformat_minor": 5
}
